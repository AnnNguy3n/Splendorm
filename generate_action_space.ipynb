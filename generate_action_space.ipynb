{
 "cells": [
  {
   "cell_type": "code",
   "execution_count": 1,
   "metadata": {},
   "outputs": [
    {
     "data": {
      "text/plain": [
       "90"
      ]
     },
     "execution_count": 1,
     "metadata": {},
     "output_type": "execute_result"
    }
   ],
   "source": [
    "# Mua thẻ\n",
    "buy = []\n",
    "for i in range(1,91):\n",
    "    buy.append([2,i,[0,0,0,0,0,0]])\n",
    "\n",
    "buy.__len__()"
   ]
  },
  {
   "cell_type": "code",
   "execution_count": 2,
   "metadata": {},
   "outputs": [
    {
     "data": {
      "text/plain": [
       "651"
      ]
     },
     "execution_count": 2,
     "metadata": {},
     "output_type": "execute_result"
    }
   ],
   "source": [
    "upside = []\n",
    "for i in range(1, 91):\n",
    "    upside.append([3,i,[0,0,0,0,0,0]])\n",
    "\n",
    "for i in range(1,91):\n",
    "    for j in range(6):\n",
    "        temp = [1 if a == j else 0 for a in range(6)]\n",
    "        upside.append([3, i, temp])\n",
    "\n",
    "for k in [100,200,300]:\n",
    "    upside.append([3, k, [0,0,0,0,0,0]])\n",
    "    for j in range(6):\n",
    "        temp = [1 if a == j else 0 for a in range(6)]\n",
    "        upside.append([3, k, temp])\n",
    "\n",
    "upside.__len__()"
   ]
  },
  {
   "cell_type": "code",
   "execution_count": 3,
   "metadata": {},
   "outputs": [
    {
     "data": {
      "text/plain": [
       "485"
      ]
     },
     "execution_count": 3,
     "metadata": {},
     "output_type": "execute_result"
    }
   ],
   "source": [
    "import itertools\n",
    "# lấy n nguyên liệu khác nhau (1,2,3), trả k nguyên liệu (k = 0,1,...,n) khác\n",
    "get = []\n",
    "for n in [3,2,1]:\n",
    "    get_n = []\n",
    "    combs = itertools.combinations([0,1,2,3,4], n)\n",
    "    for comb in combs:\n",
    "        get_n.append([1 if a in comb else 0 for a in range(5)])\n",
    "    \n",
    "    for k in range(n+1):\n",
    "        for i in get_n:\n",
    "            temp = [a for a in range(5) if i[a] == 0]\n",
    "            temp.append(5)\n",
    "            temp_2 = itertools.combinations_with_replacement(temp, k)\n",
    "            for j in temp_2:\n",
    "                temp_3 = [0,0,0,0,0,0]\n",
    "                for v in j:\n",
    "                    temp_3[v] += 1\n",
    "                \n",
    "                get.append([1,i,temp_3])\n",
    "\n",
    "# lấy 2 nguyên liệu cùng màu, trả k nguyên liệu khác (k = 0,1,2)\n",
    "get_double = []\n",
    "for i in range(5):\n",
    "    get_double.append([2 if a == i else 0 for a in range(5)])\n",
    "\n",
    "for k in range(3):\n",
    "    for i in get_double:\n",
    "        temp = [a for a in range(5) if i[a] == 0]\n",
    "        temp.append(5)\n",
    "        temp_2 = itertools.combinations_with_replacement(temp, k)\n",
    "        for j in temp_2:\n",
    "            temp_3 = [0,0,0,0,0,0]\n",
    "            for v in j:\n",
    "                temp_3[v] += 1\n",
    "            \n",
    "            get.append([1,i,temp_3])\n",
    "    \n",
    "get.__len__()"
   ]
  },
  {
   "cell_type": "code",
   "execution_count": 4,
   "metadata": {},
   "outputs": [],
   "source": [
    "do_nothing = [1,[0,0,0,0,0], [0,0,0,0,0,0]]\n",
    "get.append(do_nothing)"
   ]
  },
  {
   "cell_type": "code",
   "execution_count": 5,
   "metadata": {},
   "outputs": [
    {
     "data": {
      "text/plain": [
       "120"
      ]
     },
     "execution_count": 5,
     "metadata": {},
     "output_type": "execute_result"
    }
   ],
   "source": [
    "# mua thẻ lần đầu tiên free, khi đó cần trả lại 1 nl\n",
    "buy_first_3_free = []\n",
    "for i in range(71,91):\n",
    "    for j in range(6):\n",
    "        buy_first_3_free.append([2, i, [1 if k == j else 0 for k in range(6)]])\n",
    "\n",
    "buy_first_3_free.__len__()"
   ]
  },
  {
   "cell_type": "code",
   "execution_count": 6,
   "metadata": {},
   "outputs": [
    {
     "data": {
      "text/plain": [
       "1347"
      ]
     },
     "execution_count": 6,
     "metadata": {},
     "output_type": "execute_result"
    }
   ],
   "source": [
    "final = buy + upside + get + buy_first_3_free\n",
    "final.__len__()"
   ]
  },
  {
   "cell_type": "code",
   "execution_count": 7,
   "metadata": {},
   "outputs": [],
   "source": [
    "import json\n",
    "with open('gym_splendorm/envs/action_space.json', 'w') as f:\n",
    "    f.write(\n",
    "        '[' +\n",
    "        ',\\n'.join(json.dumps(i) for i in final)\n",
    "        + ']'\n",
    "    )"
   ]
  }
 ],
 "metadata": {
  "interpreter": {
   "hash": "3bc1a11519d29b3ed6f08646f3ece60640217e649724c6bcfd38e1173c1a1bce"
  },
  "kernelspec": {
   "display_name": "Python 3.10.4 64-bit",
   "language": "python",
   "name": "python3"
  },
  "language_info": {
   "codemirror_mode": {
    "name": "ipython",
    "version": 3
   },
   "file_extension": ".py",
   "mimetype": "text/x-python",
   "name": "python",
   "nbconvert_exporter": "python",
   "pygments_lexer": "ipython3",
   "version": "3.10.4"
  },
  "orig_nbformat": 4
 },
 "nbformat": 4,
 "nbformat_minor": 2
}
